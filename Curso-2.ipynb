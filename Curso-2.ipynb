{
 "cells": [
  {
   "cell_type": "markdown",
   "metadata": {},
   "source": [
    "# Bienvenidos al video tutorial de Python para Analisis de Datos"
   ]
  },
  {
   "cell_type": "markdown",
   "metadata": {},
   "source": [
    "## Primer ejercicio de Markdown\n",
    "\n",
    "Esta saga de *video* tutorial te va a servir para convertirte en un experto en python para el **analisis de datos.**"
   ]
  },
  {
   "cell_type": "markdown",
   "metadata": {},
   "source": [
    "## ¿Qué voy a aprender en estos tutoriales de Python?\n",
    "- Cargar Archivos en un Jupyetr notebook\n",
    "- Cargar librerias\n",
    "- Limpieza de datos\n",
    "- Correr algoritmos"
   ]
  },
  {
   "cell_type": "markdown",
   "metadata": {},
   "source": [
    "[Visita Google](https://www.google.cl)"
   ]
  },
  {
   "cell_type": "markdown",
   "metadata": {},
   "source": [
    "![Meme Pepe](https://c.files.bbci.co.uk/93B3/production/_91411873_14370347_1655937074697157_8607714744240888925_n.png)"
   ]
  }
 ],
 "metadata": {
  "kernelspec": {
   "display_name": "Python 3",
   "language": "python",
   "name": "python3"
  },
  "language_info": {
   "codemirror_mode": {
    "name": "ipython",
    "version": 3
   },
   "file_extension": ".py",
   "mimetype": "text/x-python",
   "name": "python",
   "nbconvert_exporter": "python",
   "pygments_lexer": "ipython3",
   "version": "3.13.2"
  }
 },
 "nbformat": 4,
 "nbformat_minor": 2
}
