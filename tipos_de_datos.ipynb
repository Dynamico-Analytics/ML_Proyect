{
 "cells": [
  {
   "cell_type": "markdown",
   "metadata": {},
   "source": [
    "# Tipos de Datos"
   ]
  },
  {
   "cell_type": "markdown",
   "metadata": {},
   "source": [
    "### Importar librerias"
   ]
  },
  {
   "cell_type": "code",
   "execution_count": 2,
   "metadata": {},
   "outputs": [],
   "source": [
    "import pandas as pd\n",
    "import numpy as np"
   ]
  },
  {
   "cell_type": "markdown",
   "metadata": {},
   "source": [
    "### Tipos de datos básicos"
   ]
  },
  {
   "cell_type": "code",
   "execution_count": 3,
   "metadata": {},
   "outputs": [],
   "source": [
    "## 1. Tipos de datos básicos:\n",
    "##    - Enteros (int): Representan números enteros. Ejemplo: 'edad=25'\n",
    "##    - Flotantes (float): Representan números decimales. Ejemplo: 'precio=25.50'\n",
    "##    - Cadenas (str): Representan texto. Ejemplo: 'nombre=\"Juan\"'"
   ]
  },
  {
   "cell_type": "code",
   "execution_count": 4,
   "metadata": {},
   "outputs": [],
   "source": [
    "edad = 25"
   ]
  },
  {
   "cell_type": "code",
   "execution_count": 5,
   "metadata": {},
   "outputs": [
    {
     "data": {
      "text/plain": [
       "int"
      ]
     },
     "execution_count": 5,
     "metadata": {},
     "output_type": "execute_result"
    }
   ],
   "source": [
    "type(edad)"
   ]
  },
  {
   "cell_type": "code",
   "execution_count": 6,
   "metadata": {},
   "outputs": [],
   "source": [
    "altura = 1.75"
   ]
  },
  {
   "cell_type": "code",
   "execution_count": 7,
   "metadata": {},
   "outputs": [
    {
     "data": {
      "text/plain": [
       "float"
      ]
     },
     "execution_count": 7,
     "metadata": {},
     "output_type": "execute_result"
    }
   ],
   "source": [
    "type(altura)"
   ]
  },
  {
   "cell_type": "code",
   "execution_count": 8,
   "metadata": {},
   "outputs": [],
   "source": [
    "nombre = \"Juan\""
   ]
  },
  {
   "cell_type": "code",
   "execution_count": 10,
   "metadata": {},
   "outputs": [
    {
     "data": {
      "text/plain": [
       "str"
      ]
     },
     "execution_count": 10,
     "metadata": {},
     "output_type": "execute_result"
    }
   ],
   "source": [
    "type(nombre)"
   ]
  },
  {
   "cell_type": "markdown",
   "metadata": {},
   "source": [
    "### Tipos de datos estructurados"
   ]
  },
  {
   "cell_type": "code",
   "execution_count": 11,
   "metadata": {},
   "outputs": [],
   "source": [
    "## 2. Tipos de datos estructurados:\n",
    "##    - Listas (list): Colección ordenada de elementos. Ejemplo: 'nombres=[\"Juan\", \"Ana\", \"Pedro\"]'\n",
    "##    - Tuplas (tuple): Colección ordenada de elementos inmutables. Ejemplo: 'coordenadas=(25, 50)'\n",
    "##    - Diccionarios (dict): Colección no ordenada de elementos indexados. Ejemplo: 'persona={\"nombre\":\"Juan\", \"edad\":25}'"
   ]
  },
  {
   "cell_type": "code",
   "execution_count": 13,
   "metadata": {},
   "outputs": [],
   "source": [
    "nombre = [\"Juan\", \"Ana\", \"Pedro\"]"
   ]
  },
  {
   "cell_type": "code",
   "execution_count": 15,
   "metadata": {},
   "outputs": [
    {
     "data": {
      "text/plain": [
       "'Ana'"
      ]
     },
     "execution_count": 15,
     "metadata": {},
     "output_type": "execute_result"
    }
   ],
   "source": [
    "nombre[1]"
   ]
  },
  {
   "cell_type": "code",
   "execution_count": 16,
   "metadata": {},
   "outputs": [],
   "source": [
    "coordenada = (25, 50)"
   ]
  },
  {
   "cell_type": "code",
   "execution_count": 17,
   "metadata": {},
   "outputs": [
    {
     "data": {
      "text/plain": [
       "tuple"
      ]
     },
     "execution_count": 17,
     "metadata": {},
     "output_type": "execute_result"
    }
   ],
   "source": [
    "type(coordenada)"
   ]
  },
  {
   "cell_type": "code",
   "execution_count": 18,
   "metadata": {},
   "outputs": [],
   "source": [
    "persona = {\"nombre\":\"Juan\", \"edad\":25}"
   ]
  },
  {
   "cell_type": "code",
   "execution_count": 19,
   "metadata": {},
   "outputs": [
    {
     "data": {
      "text/plain": [
       "'Juan'"
      ]
     },
     "execution_count": 19,
     "metadata": {},
     "output_type": "execute_result"
    }
   ],
   "source": [
    "persona[\"nombre\"]"
   ]
  },
  {
   "cell_type": "markdown",
   "metadata": {},
   "source": [
    "### Crear un DataFrame a partir de una lista de diccionarios"
   ]
  },
  {
   "cell_type": "code",
   "execution_count": 20,
   "metadata": {},
   "outputs": [
    {
     "data": {
      "text/html": [
       "<div>\n",
       "<style scoped>\n",
       "    .dataframe tbody tr th:only-of-type {\n",
       "        vertical-align: middle;\n",
       "    }\n",
       "\n",
       "    .dataframe tbody tr th {\n",
       "        vertical-align: top;\n",
       "    }\n",
       "\n",
       "    .dataframe thead th {\n",
       "        text-align: right;\n",
       "    }\n",
       "</style>\n",
       "<table border=\"1\" class=\"dataframe\">\n",
       "  <thead>\n",
       "    <tr style=\"text-align: right;\">\n",
       "      <th></th>\n",
       "      <th>nombre</th>\n",
       "      <th>edad</th>\n",
       "      <th>ciudad</th>\n",
       "    </tr>\n",
       "  </thead>\n",
       "  <tbody>\n",
       "    <tr>\n",
       "      <th>0</th>\n",
       "      <td>Juan</td>\n",
       "      <td>25</td>\n",
       "      <td>Ciudad A</td>\n",
       "    </tr>\n",
       "    <tr>\n",
       "      <th>1</th>\n",
       "      <td>Ana</td>\n",
       "      <td>30</td>\n",
       "      <td>Ciudad B</td>\n",
       "    </tr>\n",
       "    <tr>\n",
       "      <th>2</th>\n",
       "      <td>Pedro</td>\n",
       "      <td>35</td>\n",
       "      <td>Ciudad C</td>\n",
       "    </tr>\n",
       "  </tbody>\n",
       "</table>\n",
       "</div>"
      ],
      "text/plain": [
       "  nombre  edad    ciudad\n",
       "0   Juan    25  Ciudad A\n",
       "1    Ana    30  Ciudad B\n",
       "2  Pedro    35  Ciudad C"
      ]
     },
     "execution_count": 20,
     "metadata": {},
     "output_type": "execute_result"
    }
   ],
   "source": [
    "# Lista de diccionarios con datos de personas\n",
    "datos_personas = [\n",
    "    {\"nombre\": \"Juan\", \"edad\": 25, \"ciudad\": \"Ciudad A\"},\n",
    "    {\"nombre\": \"Ana\", \"edad\": 30, \"ciudad\": \"Ciudad B\"},\n",
    "    {\"nombre\": \"Pedro\", \"edad\": 35, \"ciudad\": \"Ciudad C\"}\n",
    "]\n",
    "\n",
    "# Crear un DataFrame a partir de una lista de diccionarios\n",
    "df_personas = pd.DataFrame(datos_personas)\n",
    "\n",
    "# Mostar el DataFrame\n",
    "df_personas"
   ]
  },
  {
   "cell_type": "markdown",
   "metadata": {},
   "source": [
    "### Tipos de datos booleanos"
   ]
  },
  {
   "cell_type": "code",
   "execution_count": 21,
   "metadata": {},
   "outputs": [],
   "source": [
    "## Bool:** Representa valores booleanos. Ejemplo: 'es_mayor_edad=True'"
   ]
  },
  {
   "cell_type": "code",
   "execution_count": 23,
   "metadata": {},
   "outputs": [],
   "source": [
    "ejemplo_booleano = True"
   ]
  },
  {
   "cell_type": "code",
   "execution_count": 25,
   "metadata": {},
   "outputs": [
    {
     "data": {
      "text/plain": [
       "bool"
      ]
     },
     "execution_count": 25,
     "metadata": {},
     "output_type": "execute_result"
    }
   ],
   "source": [
    "type(ejemplo_booleano)"
   ]
  },
  {
   "cell_type": "markdown",
   "metadata": {},
   "source": [
    "### Libería Numpy para **Datos *Numéricos***:"
   ]
  },
  {
   "cell_type": "code",
   "execution_count": null,
   "metadata": {},
   "outputs": [],
   "source": [
    "## Librería Numpy para Datos Numéricos:**\n",
    "##   - Importar Numpy: 'import numpy as np'\n",
    "##   - Crear un array de Numpy: 'edades = np.array([1, 2, 3])'\n",
    "##   - Realizar cálculos matemáticos: 'media=np.mean(edades)'"
   ]
  },
  {
   "cell_type": "code",
   "execution_count": 26,
   "metadata": {},
   "outputs": [],
   "source": [
    "edades = np.array([25, 30, 35])"
   ]
  },
  {
   "cell_type": "code",
   "execution_count": 27,
   "metadata": {},
   "outputs": [],
   "source": [
    "media = np.mean(edades)"
   ]
  },
  {
   "cell_type": "code",
   "execution_count": 28,
   "metadata": {},
   "outputs": [
    {
     "name": "stdout",
     "output_type": "stream",
     "text": [
      "30.0\n"
     ]
    }
   ],
   "source": [
    "print(media)"
   ]
  },
  {
   "cell_type": "markdown",
   "metadata": {},
   "source": [
    "## Ejercicios prácticos"
   ]
  },
  {
   "cell_type": "markdown",
   "metadata": {},
   "source": [
    "### 1er Ejercicio - Listas"
   ]
  },
  {
   "cell_type": "code",
   "execution_count": 31,
   "metadata": {},
   "outputs": [
    {
     "name": "stdout",
     "output_type": "stream",
     "text": [
      "Lista  despues de agregar un nombre:  ['Juan', 'Ana', 'Pedro', 'Luis']\n",
      "Lista despues de eliminar el segundo nombre:  ['Juan', 'Pedro', 'Luis']\n"
     ]
    }
   ],
   "source": [
    "## Manipular una lista de nombres, agregar o eliminar elementos:\n",
    "\n",
    "# Lista de nombres inicial\n",
    "nombres = [\"Juan\", \"Ana\", \"Pedro\"]\n",
    "\n",
    "# Agregar un nuevo nombre al final de la lista\n",
    "nombres.append(\"Luis\")\n",
    "\n",
    "# Mostrar la lista de nombres actualizada\n",
    "print(\"Lista  despues de agregar un nombre: \", nombres)\n",
    "\n",
    "# Posiciones dentro de una lista, Python en las listas siempre arranca a contar desde 0\n",
    "# Si quiero seleccionar a Juan deberia utilizar\n",
    "nombres[0]\n",
    "\n",
    "# Eliminar el segundo nombre de la lista\n",
    "nombres.pop(1)\n",
    "\n",
    "# Mostrar la lista de nombres despues de eliminar un nombre\n",
    "print(\"Lista despues de eliminar el segundo nombre: \", nombres)"
   ]
  },
  {
   "cell_type": "markdown",
   "metadata": {},
   "source": [
    "### 2do Ejercicio - Diccionario\n"
   ]
  },
  {
   "cell_type": "code",
   "execution_count": 33,
   "metadata": {},
   "outputs": [
    {
     "name": "stdout",
     "output_type": "stream",
     "text": [
      "Informacion del estudiante: \n",
      "Nombre:  Juan\n",
      "Edad:  25\n",
      "Cursos:  ['Python', 'Estadística', 'SQL']\n",
      "Promedio:  15.5\n"
     ]
    }
   ],
   "source": [
    "## Utilizar un diccionario para representar información de un estudiante:**\n",
    "\n",
    "# Datos del estudiante en un diccionario\n",
    "estudiante = {\n",
    "    \"nombre\": \"Juan\",\n",
    "    \"edad\": 25,\n",
    "    \"cursos\": [\"Python\", \"Estadística\", \"SQL\"],\n",
    "    \"promedio\": 15.5\n",
    "}\n",
    "\n",
    "# Mostrar información del estudiante\n",
    "print(\"Informacion del estudiante: \")\n",
    "print(\"Nombre: \", estudiante[\"nombre\"])\n",
    "print(\"Edad: \", estudiante[\"edad\"])\n",
    "print(\"Cursos: \", estudiante[\"cursos\"])\n",
    "print(\"Promedio: \", estudiante[\"promedio\"])"
   ]
  },
  {
   "cell_type": "code",
   "execution_count": 34,
   "metadata": {},
   "outputs": [
    {
     "data": {
      "text/plain": [
       "15.5"
      ]
     },
     "execution_count": 34,
     "metadata": {},
     "output_type": "execute_result"
    }
   ],
   "source": [
    "estudiante[\"promedio\"]"
   ]
  }
 ],
 "metadata": {
  "kernelspec": {
   "display_name": "Python 3",
   "language": "python",
   "name": "python3"
  },
  "language_info": {
   "codemirror_mode": {
    "name": "ipython",
    "version": 3
   },
   "file_extension": ".py",
   "mimetype": "text/x-python",
   "name": "python",
   "nbconvert_exporter": "python",
   "pygments_lexer": "ipython3",
   "version": "3.13.2"
  }
 },
 "nbformat": 4,
 "nbformat_minor": 2
}
